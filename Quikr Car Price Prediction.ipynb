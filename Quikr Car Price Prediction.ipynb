{
 "cells": [
  {
   "cell_type": "code",
   "execution_count": 3,
   "metadata": {},
   "outputs": [
    {
     "data": {
      "text/plain": [
       "array([239405.41026207])"
      ]
     },
     "execution_count": 3,
     "metadata": {},
     "output_type": "execute_result"
    }
   ],
   "source": [
    "import pandas as pd\n",
    "from sklearn.linear_model import LinearRegression\n",
    "from sklearn.preprocessing import OneHotEncoder\n",
    "from sklearn.metrics import r2_score\n",
    "from sklearn.compose import make_column_transformer\n",
    "from sklearn.pipeline import make_pipeline\n",
    "from sklearn.model_selection import train_test_split\n",
    "import numpy as np\n",
    "car=pd.read_csv(\"quikr_car.csv\")\n",
    "car['name']= car['name'].str.split(\" \").str.slice(0,2).str.join( \" \")\n",
    "car= car[car['year'].str.isnumeric()]\n",
    "car['year']=car['year'].astype(int)\n",
    "car=car[car['Price']!=('Ask For Price')]\n",
    "car['Price']= car['Price'].str.replace(\",\", \"\").astype(int)\n",
    "car['kms_driven']=car['kms_driven'].str.split().str.get(0).str.replace(',',\"\")\n",
    "car=car[car['kms_driven'].str.isnumeric()]\n",
    "car['kms_driven']=car['kms_driven'].astype(int)\n",
    "car=car[~car['fuel_type'].isna()]\n",
    "car.reset_index(drop=True)\n",
    "car=car[car['Price']< 6e6]\n",
    "car.describe()\n",
    "car.reset_index(drop=True)\n",
    "X=car.drop(columns=\"Price\")\n",
    "y=car['Price']\n",
    "ohe=o.fit(X[['name','company', 'fuel_type']])\n",
    "o=OneHotEncoder()\n",
    "ct=make_column_transformer((OneHotEncoder(categories=ohe.categories_),['name','company','fuel_type']), remainder='passthrough')\n",
    "X_train,X_test,y_train,y_test=train_test_split(X,y,test_size= 0.2)\n",
    "lr=LinearRegression()\n",
    "pipe=make_pipeline(ct,lr)\n",
    "pipe.fit(X_train,y_train)\n",
    "pred=pipe.predict(X_test)\n",
    "pred\n",
    "\n",
    "score=[]\n",
    "for i in range(1500):\n",
    "    X_train,X_test,y_train,y_test=train_test_split(X,y,test_size=0.2,random_state=i)\n",
    "    lr=LinearRegression()\n",
    "    pipe=make_pipeline(ct,lr)\n",
    "    pipe.fit(X_train,y_train)\n",
    "    p=pipe.predict(X_test)\n",
    "    pred=r2_score(y_test,p)\n",
    "    score.append(pred)\n",
    "    np.argmax(score)\n",
    "\n",
    "X_train,X_test,y_train,y_test=train_test_split(X,y,test_size=0.2,random_state=np.argmax(score))\n",
    "lr=LinearRegression()\n",
    "pipe=make_pipeline(ct,lr)\n",
    "pipe.fit(X_train,y_train)\n",
    "p=pipe.predict(pd.DataFrame([['Ford Figo','Ford',2012,41000,'Diesel']],columns=['name', 'company','year', 'kms_driven','fuel_type']))\n",
    "p\n",
    "# # pred=r2_score(y_test,p)\n",
    "\n",
    "# car\n",
    "  \n",
    "# car"
   ]
  },
  {
   "cell_type": "code",
   "execution_count": null,
   "metadata": {},
   "outputs": [],
   "source": []
  }
 ],
 "metadata": {
  "kernelspec": {
   "display_name": "Python 3",
   "language": "python",
   "name": "python3"
  },
  "language_info": {
   "codemirror_mode": {
    "name": "ipython",
    "version": 3
   },
   "file_extension": ".py",
   "mimetype": "text/x-python",
   "name": "python",
   "nbconvert_exporter": "python",
   "pygments_lexer": "ipython3",
   "version": "3.8.5"
  }
 },
 "nbformat": 4,
 "nbformat_minor": 4
}
